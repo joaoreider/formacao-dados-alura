{
 "cells": [
  {
   "cell_type": "code",
   "execution_count": 1,
   "metadata": {},
   "outputs": [
    {
     "name": "stdout",
     "output_type": "stream",
     "text": [
      "26094.90 litros\n"
     ]
    }
   ],
   "source": [
    "import pickle\n",
    "\n",
    "modelo = open('modelo_consumo_cerveja','rb')\n",
    "lm_new = pickle.load(modelo)\n",
    "modelo.close()\n",
    "\n",
    "temp_max = 30.5\n",
    "chuva = 12.2\n",
    "fds = 0\n",
    "entrada = [[temp_max, chuva, fds]]\n",
    "print('{0:.2f} litros'.format(lm_new.predict(entrada)[0]))"
   ]
  }
 ],
 "metadata": {
  "interpreter": {
   "hash": "980eaa0f9276f3e131ed0492f12d9349ed6b1f8ad28549cedce0fdc5b6a1e64a"
  },
  "kernelspec": {
   "display_name": "Python 3.9.7 64-bit ('base': conda)",
   "language": "python",
   "name": "python3"
  },
  "language_info": {
   "codemirror_mode": {
    "name": "ipython",
    "version": 3
   },
   "file_extension": ".py",
   "mimetype": "text/x-python",
   "name": "python",
   "nbconvert_exporter": "python",
   "pygments_lexer": "ipython3",
   "version": "3.9.7"
  },
  "orig_nbformat": 4
 },
 "nbformat": 4,
 "nbformat_minor": 2
}
